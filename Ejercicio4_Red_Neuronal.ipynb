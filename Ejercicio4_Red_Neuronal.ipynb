{
  "nbformat": 4,
  "nbformat_minor": 0,
  "metadata": {
    "colab": {
      "provenance": []
    },
    "kernelspec": {
      "name": "python3",
      "display_name": "Python 3"
    },
    "language_info": {
      "name": "python"
    }
  },
  "cells": [
    {
      "cell_type": "code",
      "execution_count": 1,
      "metadata": {
        "colab": {
          "base_uri": "https://localhost:8080/"
        },
        "id": "wCHKupmJVFGH",
        "outputId": "4d7ebb02-a19b-4945-9aaf-4d1a355f43e5"
      },
      "outputs": [
        {
          "output_type": "stream",
          "name": "stdout",
          "text": [
            "Primeras filas del dataset:\n",
            "   MedInc  HouseAge  AveRooms  AveBedrms  Population  AveOccup  Latitude  \\\n",
            "0  8.3252      41.0  6.984127   1.023810       322.0  2.555556     37.88   \n",
            "1  8.3014      21.0  6.238137   0.971880      2401.0  2.109842     37.86   \n",
            "2  7.2574      52.0  8.288136   1.073446       496.0  2.802260     37.85   \n",
            "3  5.6431      52.0  5.817352   1.073059       558.0  2.547945     37.85   \n",
            "4  3.8462      52.0  6.281853   1.081081       565.0  2.181467     37.85   \n",
            "\n",
            "   Longitude  MedHouseVal  \n",
            "0    -122.23        4.526  \n",
            "1    -122.22        3.585  \n",
            "2    -122.24        3.521  \n",
            "3    -122.25        3.413  \n",
            "4    -122.25        3.422  \n",
            "Información del dataset: \n",
            "<class 'pandas.core.frame.DataFrame'>\n",
            "RangeIndex: 20640 entries, 0 to 20639\n",
            "Data columns (total 9 columns):\n",
            " #   Column       Non-Null Count  Dtype  \n",
            "---  ------       --------------  -----  \n",
            " 0   MedInc       20640 non-null  float64\n",
            " 1   HouseAge     20640 non-null  float64\n",
            " 2   AveRooms     20640 non-null  float64\n",
            " 3   AveBedrms    20640 non-null  float64\n",
            " 4   Population   20640 non-null  float64\n",
            " 5   AveOccup     20640 non-null  float64\n",
            " 6   Latitude     20640 non-null  float64\n",
            " 7   Longitude    20640 non-null  float64\n",
            " 8   MedHouseVal  20640 non-null  float64\n",
            "dtypes: float64(9)\n",
            "memory usage: 1.4 MB\n",
            "None\n",
            "Estadísticas descriptivas del dataset:\n",
            "             MedInc      HouseAge      AveRooms     AveBedrms    Population  \\\n",
            "count  20640.000000  20640.000000  20640.000000  20640.000000  20640.000000   \n",
            "mean       3.870671     28.639486      5.429000      1.096675   1425.476744   \n",
            "std        1.899822     12.585558      2.474173      0.473911   1132.462122   \n",
            "min        0.499900      1.000000      0.846154      0.333333      3.000000   \n",
            "25%        2.563400     18.000000      4.440716      1.006079    787.000000   \n",
            "50%        3.534800     29.000000      5.229129      1.048780   1166.000000   \n",
            "75%        4.743250     37.000000      6.052381      1.099526   1725.000000   \n",
            "max       15.000100     52.000000    141.909091     34.066667  35682.000000   \n",
            "\n",
            "           AveOccup      Latitude     Longitude   MedHouseVal  \n",
            "count  20640.000000  20640.000000  20640.000000  20640.000000  \n",
            "mean       3.070655     35.631861   -119.569704      2.068558  \n",
            "std       10.386050      2.135952      2.003532      1.153956  \n",
            "min        0.692308     32.540000   -124.350000      0.149990  \n",
            "25%        2.429741     33.930000   -121.800000      1.196000  \n",
            "50%        2.818116     34.260000   -118.490000      1.797000  \n",
            "75%        3.282261     37.710000   -118.010000      2.647250  \n",
            "max     1243.333333     41.950000   -114.310000      5.000010  \n"
          ]
        }
      ],
      "source": [
        "import pandas as pd\n",
        "import tensorflow as tf\n",
        "from sklearn.datasets import fetch_california_housing\n",
        "from tensorflow.keras.models import Sequential\n",
        "from tensorflow.keras.layers import Dense\n",
        "from tensorflow.keras.optimizers import Adam\n",
        "from sklearn.model_selection import train_test_split\n",
        "from sklearn.preprocessing import StandardScaler\n",
        "import matplotlib.pyplot as plt\n",
        "from keras.regularizers import l2\n",
        "\n",
        "\n",
        "\n",
        "data = fetch_california_housing(as_frame=True)\n",
        "df = data.frame\n",
        "\n",
        "# Mostrar las primeras filas del dataset\n",
        "print('Primeras filas del dataset:')\n",
        "print(df.head())\n",
        "\n",
        "# Ver información general del dataset\n",
        "print('Información del dataset: ')\n",
        "print(df.info())\n",
        "\n",
        "# Ver estadísticas descriptivas\n",
        "print('Estadísticas descriptivas del dataset:')\n",
        "print(df.describe())"
      ]
    },
    {
      "cell_type": "markdown",
      "source": [
        "Limpieza del dataset"
      ],
      "metadata": {
        "id": "nbEIUz3KW1g2"
      }
    },
    {
      "cell_type": "code",
      "source": [
        "df.dropna(inplace=True) #Elimina valores nulos\n",
        "df_sin_dups = df.drop_duplicates() #Elimina duplicados y los guarda en otro dataset\n",
        "print('Esta es la información del dataset ya sin duplicados y valores nulos como NaN')\n",
        "print(df_sin_dups)"
      ],
      "metadata": {
        "colab": {
          "base_uri": "https://localhost:8080/"
        },
        "id": "hNYIh_loW3HZ",
        "outputId": "5dcc6e5a-69f6-49eb-a520-5c80002e8f68"
      },
      "execution_count": 2,
      "outputs": [
        {
          "output_type": "stream",
          "name": "stdout",
          "text": [
            "Esta es la información del dataset ya sin duplicados y valores nulos como NaN\n",
            "       MedInc  HouseAge  AveRooms  AveBedrms  Population  AveOccup  Latitude  \\\n",
            "0      8.3252      41.0  6.984127   1.023810       322.0  2.555556     37.88   \n",
            "1      8.3014      21.0  6.238137   0.971880      2401.0  2.109842     37.86   \n",
            "2      7.2574      52.0  8.288136   1.073446       496.0  2.802260     37.85   \n",
            "3      5.6431      52.0  5.817352   1.073059       558.0  2.547945     37.85   \n",
            "4      3.8462      52.0  6.281853   1.081081       565.0  2.181467     37.85   \n",
            "...       ...       ...       ...        ...         ...       ...       ...   \n",
            "20635  1.5603      25.0  5.045455   1.133333       845.0  2.560606     39.48   \n",
            "20636  2.5568      18.0  6.114035   1.315789       356.0  3.122807     39.49   \n",
            "20637  1.7000      17.0  5.205543   1.120092      1007.0  2.325635     39.43   \n",
            "20638  1.8672      18.0  5.329513   1.171920       741.0  2.123209     39.43   \n",
            "20639  2.3886      16.0  5.254717   1.162264      1387.0  2.616981     39.37   \n",
            "\n",
            "       Longitude  MedHouseVal  \n",
            "0        -122.23        4.526  \n",
            "1        -122.22        3.585  \n",
            "2        -122.24        3.521  \n",
            "3        -122.25        3.413  \n",
            "4        -122.25        3.422  \n",
            "...          ...          ...  \n",
            "20635    -121.09        0.781  \n",
            "20636    -121.21        0.771  \n",
            "20637    -121.22        0.923  \n",
            "20638    -121.32        0.847  \n",
            "20639    -121.24        0.894  \n",
            "\n",
            "[20640 rows x 9 columns]\n"
          ]
        }
      ]
    },
    {
      "cell_type": "markdown",
      "source": [
        "Dividamos los datos! :D"
      ],
      "metadata": {
        "id": "MeZ4WZS3cADk"
      }
    },
    {
      "cell_type": "code",
      "source": [
        "# Separar características (X) y objetivo (y)\n",
        "X = df.drop(columns='MedHouseVal')  # Eliminar la columna objetivo pero toma las demás columnas\n",
        "y = df['MedHouseVal']  # Columna objetivo\n",
        "\n",
        "# Separar características (X) y objetivo (y)\n",
        "X = df.drop(columns='MedHouseVal')  # Eliminar la columna objetivo pero toma las demás columnas\n",
        "y = df['MedHouseVal']  # Columna objetivo\n",
        "\n",
        "# Dividir en entrenamiento y prueba\n",
        "X_train, X_test, y_train, y_test = train_test_split(X, y, test_size=0.2, random_state=42)\n",
        "print('Tamaño de los conjuntos de datos:')\n",
        "print(\"Conjunto de entrenamiento:\", X_train.shape)\n",
        "print(\"Conjunto de prueba:\", X_test.shape)"
      ],
      "metadata": {
        "colab": {
          "base_uri": "https://localhost:8080/"
        },
        "id": "0Q_GiihQfhFz",
        "outputId": "426d3864-eea6-4252-f04c-989a3a61a5ab"
      },
      "execution_count": 5,
      "outputs": [
        {
          "output_type": "stream",
          "name": "stdout",
          "text": [
            "Tamaño de los conjuntos de datos:\n",
            "Conjunto de entrenamiento: (16512, 8)\n",
            "Conjunto de prueba: (4128, 8)\n"
          ]
        }
      ]
    },
    {
      "cell_type": "markdown",
      "source": [
        "Escalando los datos"
      ],
      "metadata": {
        "id": "-PTvnge6fs5I"
      }
    },
    {
      "cell_type": "code",
      "source": [
        "# Escalador estándar\n",
        "scaler = StandardScaler()\n",
        "\n",
        "# Ajustar y transformar los datos de entrenamiento\n",
        "X_train_scaled = scaler.fit_transform(X_train)\n",
        "\n",
        "# Transformar los datos de prueba\n",
        "X_test_scaled = scaler.transform(X_test)\n",
        "\n",
        "print(\"Datos escalados correctamente.\")"
      ],
      "metadata": {
        "colab": {
          "base_uri": "https://localhost:8080/"
        },
        "id": "5hfWEED5fu8R",
        "outputId": "44f33fa5-576c-4ee7-acbb-2ad29559e738"
      },
      "execution_count": 6,
      "outputs": [
        {
          "output_type": "stream",
          "name": "stdout",
          "text": [
            "Datos escalados correctamente.\n"
          ]
        }
      ]
    },
    {
      "cell_type": "markdown",
      "source": [
        "Entrenemos el modelo y evaluemos"
      ],
      "metadata": {
        "id": "jP3ZlxpBcW96"
      }
    },
    {
      "cell_type": "code",
      "source": [
        "# 1. Definir la arquitectura del modelo\n",
        "model = Sequential([\n",
        "    Dense(128, activation='relu', input_dim=X_train.shape[1], kernel_regularizer=l2(0.01)),\n",
        "    Dense(64, activation='relu', kernel_regularizer=l2(0.01)),\n",
        "    Dense(32, activation='relu', kernel_regularizer=l2(0.01)),\n",
        "    Dense(1, activation='linear')  # Capa de salida\n",
        "])\n",
        "\n",
        "# 2. Compilar el modelo\n",
        "model.compile(\n",
        "    optimizer=Adam(learning_rate=0.001),\n",
        "        loss='mse',        # Función de pérdida: Error cuadrático medio (MSE)\n",
        "    metrics=['mae']    # Métrica adicional: Error absoluto medio (MAE)\n",
        ")\n",
        "\n",
        "# 3. Entrenar el modelo\n",
        "history = model.fit(X_train, y_train,\n",
        "                    validation_split=0.2,\n",
        "                    epochs=100,\n",
        "                    batch_size=64,\n",
        "                    verbose=1)\n",
        "\n",
        "\n",
        "# 4. Evaluar el modelo en el conjunto de prueba\n",
        "test_loss, test_mae = model.evaluate(X_test, y_test, verbose=0)\n",
        "\n",
        "print(f\"Pérdida (MSE) en prueba: {test_loss:.4f}\")\n",
        "print(f\"Error absoluto medio (MAE) en prueba: {test_mae:.4f}\")\n",
        "\n",
        "# 5. Visualizar el historial de entrenamiento\n",
        "plt.figure(figsize=(12, 6))\n",
        "\n",
        "# Pérdida\n",
        "plt.subplot(1, 2, 1)\n",
        "plt.plot(history.history['loss'], label='Pérdida entrenamiento')\n",
        "plt.plot(history.history['val_loss'], label='Pérdida validación')\n",
        "plt.title('Pérdida durante el entrenamiento')\n",
        "plt.xlabel('Épocas')\n",
        "plt.ylabel('MSE')\n",
        "plt.legend()\n",
        "\n",
        "# Métrica MAE\n",
        "plt.subplot(1, 2, 2)\n",
        "plt.plot(history.history['mae'], label='MAE entrenamiento')\n",
        "plt.plot(history.history['val_mae'], label='MAE validación')\n",
        "plt.title('MAE durante el entrenamiento')\n",
        "plt.xlabel('Épocas')\n",
        "plt.ylabel('MAE')\n",
        "plt.legend()\n",
        "\n",
        "plt.show()\n",
        "\n",
        "# 6. Hacer predicciones\n",
        "predictions = model.predict(X_test_scaled)\n",
        "\n",
        "# Mostrar algunas predicciones vs valores reales\n",
        "import numpy as np\n",
        "for i in range(10):  # Mostrar las primeras 10 predicciones\n",
        "    print(f\"Predicción: {predictions[i][0]:.2f}, Valor real: {y_test.iloc[i]:.2f}\")\n",
        "\n"
      ],
      "metadata": {
        "colab": {
          "base_uri": "https://localhost:8080/",
          "height": 1000
        },
        "id": "XHsN9DYGhKBl",
        "outputId": "5169e16d-0ae3-4755-e767-b947077326eb"
      },
      "execution_count": 7,
      "outputs": [
        {
          "output_type": "stream",
          "name": "stderr",
          "text": [
            "/usr/local/lib/python3.11/dist-packages/keras/src/layers/core/dense.py:87: UserWarning: Do not pass an `input_shape`/`input_dim` argument to a layer. When using Sequential models, prefer using an `Input(shape)` object as the first layer in the model instead.\n",
            "  super().__init__(activity_regularizer=activity_regularizer, **kwargs)\n"
          ]
        },
        {
          "output_type": "stream",
          "name": "stdout",
          "text": [
            "Epoch 1/100\n",
            "\u001b[1m207/207\u001b[0m \u001b[32m━━━━━━━━━━━━━━━━━━━━\u001b[0m\u001b[37m\u001b[0m \u001b[1m8s\u001b[0m 8ms/step - loss: 1604.5063 - mae: 16.3372 - val_loss: 2.3432 - val_mae: 1.0141\n",
            "Epoch 2/100\n",
            "\u001b[1m207/207\u001b[0m \u001b[32m━━━━━━━━━━━━━━━━━━━━\u001b[0m\u001b[37m\u001b[0m \u001b[1m2s\u001b[0m 5ms/step - loss: 2.4056 - mae: 1.0245 - val_loss: 2.4264 - val_mae: 1.1189\n",
            "Epoch 3/100\n",
            "\u001b[1m207/207\u001b[0m \u001b[32m━━━━━━━━━━━━━━━━━━━━\u001b[0m\u001b[37m\u001b[0m \u001b[1m0s\u001b[0m 2ms/step - loss: 4.5546 - mae: 1.4675 - val_loss: 2.3646 - val_mae: 1.1212\n",
            "Epoch 4/100\n",
            "\u001b[1m207/207\u001b[0m \u001b[32m━━━━━━━━━━━━━━━━━━━━\u001b[0m\u001b[37m\u001b[0m \u001b[1m1s\u001b[0m 2ms/step - loss: 1.9194 - mae: 0.9011 - val_loss: 3.4554 - val_mae: 1.3569\n",
            "Epoch 5/100\n",
            "\u001b[1m207/207\u001b[0m \u001b[32m━━━━━━━━━━━━━━━━━━━━\u001b[0m\u001b[37m\u001b[0m \u001b[1m1s\u001b[0m 2ms/step - loss: 2.0249 - mae: 0.9020 - val_loss: 3.0343 - val_mae: 1.2924\n",
            "Epoch 6/100\n",
            "\u001b[1m207/207\u001b[0m \u001b[32m━━━━━━━━━━━━━━━━━━━━\u001b[0m\u001b[37m\u001b[0m \u001b[1m1s\u001b[0m 2ms/step - loss: 10.7974 - mae: 1.6510 - val_loss: 1.8213 - val_mae: 0.9073\n",
            "Epoch 7/100\n",
            "\u001b[1m207/207\u001b[0m \u001b[32m━━━━━━━━━━━━━━━━━━━━\u001b[0m\u001b[37m\u001b[0m \u001b[1m0s\u001b[0m 2ms/step - loss: 2.2062 - mae: 0.9725 - val_loss: 1.4574 - val_mae: 0.7314\n",
            "Epoch 8/100\n",
            "\u001b[1m207/207\u001b[0m \u001b[32m━━━━━━━━━━━━━━━━━━━━\u001b[0m\u001b[37m\u001b[0m \u001b[1m0s\u001b[0m 2ms/step - loss: 1.7609 - mae: 0.8380 - val_loss: 1.5714 - val_mae: 0.7353\n",
            "Epoch 9/100\n",
            "\u001b[1m207/207\u001b[0m \u001b[32m━━━━━━━━━━━━━━━━━━━━\u001b[0m\u001b[37m\u001b[0m \u001b[1m1s\u001b[0m 2ms/step - loss: 1.5134 - mae: 0.7596 - val_loss: 1.4368 - val_mae: 0.7887\n",
            "Epoch 10/100\n",
            "\u001b[1m207/207\u001b[0m \u001b[32m━━━━━━━━━━━━━━━━━━━━\u001b[0m\u001b[37m\u001b[0m \u001b[1m1s\u001b[0m 4ms/step - loss: 2.6209 - mae: 1.0004 - val_loss: 2.9113 - val_mae: 1.2417\n",
            "Epoch 11/100\n",
            "\u001b[1m207/207\u001b[0m \u001b[32m━━━━━━━━━━━━━━━━━━━━\u001b[0m\u001b[37m\u001b[0m \u001b[1m1s\u001b[0m 4ms/step - loss: 17.0841 - mae: 1.9084 - val_loss: 1.7203 - val_mae: 0.7996\n",
            "Epoch 12/100\n",
            "\u001b[1m207/207\u001b[0m \u001b[32m━━━━━━━━━━━━━━━━━━━━\u001b[0m\u001b[37m\u001b[0m \u001b[1m1s\u001b[0m 3ms/step - loss: 1.6561 - mae: 0.8284 - val_loss: 1.6210 - val_mae: 0.8940\n",
            "Epoch 13/100\n",
            "\u001b[1m207/207\u001b[0m \u001b[32m━━━━━━━━━━━━━━━━━━━━\u001b[0m\u001b[37m\u001b[0m \u001b[1m1s\u001b[0m 2ms/step - loss: 1.4394 - mae: 0.7526 - val_loss: 1.9133 - val_mae: 0.8404\n",
            "Epoch 14/100\n",
            "\u001b[1m207/207\u001b[0m \u001b[32m━━━━━━━━━━━━━━━━━━━━\u001b[0m\u001b[37m\u001b[0m \u001b[1m1s\u001b[0m 3ms/step - loss: 1.4832 - mae: 0.7648 - val_loss: 1.2997 - val_mae: 0.6529\n",
            "Epoch 15/100\n",
            "\u001b[1m207/207\u001b[0m \u001b[32m━━━━━━━━━━━━━━━━━━━━\u001b[0m\u001b[37m\u001b[0m \u001b[1m1s\u001b[0m 3ms/step - loss: 1.3268 - mae: 0.6971 - val_loss: 1.2624 - val_mae: 0.6328\n",
            "Epoch 16/100\n",
            "\u001b[1m207/207\u001b[0m \u001b[32m━━━━━━━━━━━━━━━━━━━━\u001b[0m\u001b[37m\u001b[0m \u001b[1m1s\u001b[0m 2ms/step - loss: 1.2805 - mae: 0.6823 - val_loss: 1.4227 - val_mae: 0.6654\n",
            "Epoch 17/100\n",
            "\u001b[1m207/207\u001b[0m \u001b[32m━━━━━━━━━━━━━━━━━━━━\u001b[0m\u001b[37m\u001b[0m \u001b[1m1s\u001b[0m 2ms/step - loss: 5.3527 - mae: 1.2468 - val_loss: 2.0437 - val_mae: 0.7868\n",
            "Epoch 18/100\n",
            "\u001b[1m207/207\u001b[0m \u001b[32m━━━━━━━━━━━━━━━━━━━━\u001b[0m\u001b[37m\u001b[0m \u001b[1m1s\u001b[0m 2ms/step - loss: 8.9344 - mae: 1.7652 - val_loss: 1.2981 - val_mae: 0.6947\n",
            "Epoch 19/100\n",
            "\u001b[1m207/207\u001b[0m \u001b[32m━━━━━━━━━━━━━━━━━━━━\u001b[0m\u001b[37m\u001b[0m \u001b[1m1s\u001b[0m 2ms/step - loss: 1.3735 - mae: 0.7232 - val_loss: 1.1985 - val_mae: 0.6443\n",
            "Epoch 20/100\n",
            "\u001b[1m207/207\u001b[0m \u001b[32m━━━━━━━━━━━━━━━━━━━━\u001b[0m\u001b[37m\u001b[0m \u001b[1m1s\u001b[0m 2ms/step - loss: 1.2878 - mae: 0.6832 - val_loss: 1.1727 - val_mae: 0.6097\n",
            "Epoch 21/100\n",
            "\u001b[1m207/207\u001b[0m \u001b[32m━━━━━━━━━━━━━━━━━━━━\u001b[0m\u001b[37m\u001b[0m \u001b[1m1s\u001b[0m 3ms/step - loss: 1.3376 - mae: 0.6971 - val_loss: 1.3964 - val_mae: 0.8029\n",
            "Epoch 22/100\n",
            "\u001b[1m207/207\u001b[0m \u001b[32m━━━━━━━━━━━━━━━━━━━━\u001b[0m\u001b[37m\u001b[0m \u001b[1m1s\u001b[0m 3ms/step - loss: 1.4055 - mae: 0.7196 - val_loss: 1.5544 - val_mae: 0.8546\n",
            "Epoch 23/100\n",
            "\u001b[1m207/207\u001b[0m \u001b[32m━━━━━━━━━━━━━━━━━━━━\u001b[0m\u001b[37m\u001b[0m \u001b[1m0s\u001b[0m 2ms/step - loss: 1.3144 - mae: 0.6923 - val_loss: 1.1876 - val_mae: 0.6659\n",
            "Epoch 24/100\n",
            "\u001b[1m207/207\u001b[0m \u001b[32m━━━━━━━━━━━━━━━━━━━━\u001b[0m\u001b[37m\u001b[0m \u001b[1m1s\u001b[0m 3ms/step - loss: 1.2821 - mae: 0.6797 - val_loss: 1.6491 - val_mae: 0.8490\n",
            "Epoch 25/100\n",
            "\u001b[1m207/207\u001b[0m \u001b[32m━━━━━━━━━━━━━━━━━━━━\u001b[0m\u001b[37m\u001b[0m \u001b[1m1s\u001b[0m 3ms/step - loss: 1.8753 - mae: 0.8289 - val_loss: 1.1514 - val_mae: 0.6478\n",
            "Epoch 26/100\n",
            "\u001b[1m207/207\u001b[0m \u001b[32m━━━━━━━━━━━━━━━━━━━━\u001b[0m\u001b[37m\u001b[0m \u001b[1m1s\u001b[0m 2ms/step - loss: 1.4938 - mae: 0.7553 - val_loss: 1.1336 - val_mae: 0.5794\n",
            "Epoch 27/100\n",
            "\u001b[1m207/207\u001b[0m \u001b[32m━━━━━━━━━━━━━━━━━━━━\u001b[0m\u001b[37m\u001b[0m \u001b[1m0s\u001b[0m 2ms/step - loss: 9.7745 - mae: 1.2834 - val_loss: 1.7390 - val_mae: 0.8811\n",
            "Epoch 28/100\n",
            "\u001b[1m207/207\u001b[0m \u001b[32m━━━━━━━━━━━━━━━━━━━━\u001b[0m\u001b[37m\u001b[0m \u001b[1m1s\u001b[0m 2ms/step - loss: 1.6995 - mae: 0.8679 - val_loss: 1.5532 - val_mae: 0.8199\n",
            "Epoch 29/100\n",
            "\u001b[1m207/207\u001b[0m \u001b[32m━━━━━━━━━━━━━━━━━━━━\u001b[0m\u001b[37m\u001b[0m \u001b[1m1s\u001b[0m 2ms/step - loss: 1.5384 - mae: 0.8209 - val_loss: 1.4911 - val_mae: 0.8283\n",
            "Epoch 30/100\n",
            "\u001b[1m207/207\u001b[0m \u001b[32m━━━━━━━━━━━━━━━━━━━━\u001b[0m\u001b[37m\u001b[0m \u001b[1m1s\u001b[0m 4ms/step - loss: 1.4702 - mae: 0.7916 - val_loss: 1.5026 - val_mae: 0.8371\n",
            "Epoch 31/100\n",
            "\u001b[1m207/207\u001b[0m \u001b[32m━━━━━━━━━━━━━━━━━━━━\u001b[0m\u001b[37m\u001b[0m \u001b[1m1s\u001b[0m 4ms/step - loss: 1.3563 - mae: 0.7344 - val_loss: 1.2130 - val_mae: 0.6683\n",
            "Epoch 32/100\n",
            "\u001b[1m207/207\u001b[0m \u001b[32m━━━━━━━━━━━━━━━━━━━━\u001b[0m\u001b[37m\u001b[0m \u001b[1m1s\u001b[0m 4ms/step - loss: 1.1939 - mae: 0.6533 - val_loss: 1.1938 - val_mae: 0.6000\n",
            "Epoch 33/100\n",
            "\u001b[1m207/207\u001b[0m \u001b[32m━━━━━━━━━━━━━━━━━━━━\u001b[0m\u001b[37m\u001b[0m \u001b[1m1s\u001b[0m 2ms/step - loss: 1.1853 - mae: 0.6422 - val_loss: 1.2940 - val_mae: 0.7285\n",
            "Epoch 34/100\n",
            "\u001b[1m207/207\u001b[0m \u001b[32m━━━━━━━━━━━━━━━━━━━━\u001b[0m\u001b[37m\u001b[0m \u001b[1m1s\u001b[0m 3ms/step - loss: 1.5181 - mae: 0.7783 - val_loss: 1.2138 - val_mae: 0.6394\n",
            "Epoch 35/100\n",
            "\u001b[1m207/207\u001b[0m \u001b[32m━━━━━━━━━━━━━━━━━━━━\u001b[0m\u001b[37m\u001b[0m \u001b[1m1s\u001b[0m 3ms/step - loss: 1.1809 - mae: 0.6536 - val_loss: 1.1534 - val_mae: 0.6057\n",
            "Epoch 36/100\n",
            "\u001b[1m207/207\u001b[0m \u001b[32m━━━━━━━━━━━━━━━━━━━━\u001b[0m\u001b[37m\u001b[0m \u001b[1m1s\u001b[0m 2ms/step - loss: 1.1419 - mae: 0.6307 - val_loss: 1.1796 - val_mae: 0.6499\n",
            "Epoch 37/100\n",
            "\u001b[1m207/207\u001b[0m \u001b[32m━━━━━━━━━━━━━━━━━━━━\u001b[0m\u001b[37m\u001b[0m \u001b[1m1s\u001b[0m 3ms/step - loss: 1.1751 - mae: 0.6406 - val_loss: 1.2381 - val_mae: 0.6250\n",
            "Epoch 38/100\n",
            "\u001b[1m207/207\u001b[0m \u001b[32m━━━━━━━━━━━━━━━━━━━━\u001b[0m\u001b[37m\u001b[0m \u001b[1m1s\u001b[0m 2ms/step - loss: 1.1667 - mae: 0.6362 - val_loss: 1.0606 - val_mae: 0.5970\n",
            "Epoch 39/100\n",
            "\u001b[1m207/207\u001b[0m \u001b[32m━━━━━━━━━━━━━━━━━━━━\u001b[0m\u001b[37m\u001b[0m \u001b[1m1s\u001b[0m 2ms/step - loss: 1.1266 - mae: 0.6286 - val_loss: 1.0738 - val_mae: 0.5762\n",
            "Epoch 40/100\n",
            "\u001b[1m207/207\u001b[0m \u001b[32m━━━━━━━━━━━━━━━━━━━━\u001b[0m\u001b[37m\u001b[0m \u001b[1m1s\u001b[0m 2ms/step - loss: 1.1395 - mae: 0.6249 - val_loss: 1.2573 - val_mae: 0.6419\n",
            "Epoch 41/100\n",
            "\u001b[1m207/207\u001b[0m \u001b[32m━━━━━━━━━━━━━━━━━━━━\u001b[0m\u001b[37m\u001b[0m \u001b[1m1s\u001b[0m 2ms/step - loss: 1.2939 - mae: 0.7063 - val_loss: 1.1964 - val_mae: 0.6870\n",
            "Epoch 42/100\n",
            "\u001b[1m207/207\u001b[0m \u001b[32m━━━━━━━━━━━━━━━━━━━━\u001b[0m\u001b[37m\u001b[0m \u001b[1m0s\u001b[0m 2ms/step - loss: 1.0786 - mae: 0.6070 - val_loss: 1.0609 - val_mae: 0.5636\n",
            "Epoch 43/100\n",
            "\u001b[1m207/207\u001b[0m \u001b[32m━━━━━━━━━━━━━━━━━━━━\u001b[0m\u001b[37m\u001b[0m \u001b[1m1s\u001b[0m 2ms/step - loss: 1.3914 - mae: 0.7109 - val_loss: 1.0870 - val_mae: 0.5681\n",
            "Epoch 44/100\n",
            "\u001b[1m207/207\u001b[0m \u001b[32m━━━━━━━━━━━━━━━━━━━━\u001b[0m\u001b[37m\u001b[0m \u001b[1m1s\u001b[0m 2ms/step - loss: 1.2407 - mae: 0.6521 - val_loss: 1.0487 - val_mae: 0.5651\n",
            "Epoch 45/100\n",
            "\u001b[1m207/207\u001b[0m \u001b[32m━━━━━━━━━━━━━━━━━━━━\u001b[0m\u001b[37m\u001b[0m \u001b[1m1s\u001b[0m 2ms/step - loss: 1.0666 - mae: 0.6014 - val_loss: 1.0499 - val_mae: 0.5643\n",
            "Epoch 46/100\n",
            "\u001b[1m207/207\u001b[0m \u001b[32m━━━━━━━━━━━━━━━━━━━━\u001b[0m\u001b[37m\u001b[0m \u001b[1m0s\u001b[0m 2ms/step - loss: 1.1098 - mae: 0.6238 - val_loss: 1.1348 - val_mae: 0.6846\n",
            "Epoch 47/100\n",
            "\u001b[1m207/207\u001b[0m \u001b[32m━━━━━━━━━━━━━━━━━━━━\u001b[0m\u001b[37m\u001b[0m \u001b[1m0s\u001b[0m 2ms/step - loss: 1.3163 - mae: 0.7131 - val_loss: 0.9915 - val_mae: 0.5437\n",
            "Epoch 48/100\n",
            "\u001b[1m207/207\u001b[0m \u001b[32m━━━━━━━━━━━━━━━━━━━━\u001b[0m\u001b[37m\u001b[0m \u001b[1m1s\u001b[0m 3ms/step - loss: 1.0737 - mae: 0.6086 - val_loss: 1.1854 - val_mae: 0.6900\n",
            "Epoch 49/100\n",
            "\u001b[1m207/207\u001b[0m \u001b[32m━━━━━━━━━━━━━━━━━━━━\u001b[0m\u001b[37m\u001b[0m \u001b[1m1s\u001b[0m 2ms/step - loss: 1.0538 - mae: 0.6000 - val_loss: 1.0657 - val_mae: 0.5714\n",
            "Epoch 50/100\n",
            "\u001b[1m207/207\u001b[0m \u001b[32m━━━━━━━━━━━━━━━━━━━━\u001b[0m\u001b[37m\u001b[0m \u001b[1m1s\u001b[0m 4ms/step - loss: 1.0620 - mae: 0.6095 - val_loss: 1.0357 - val_mae: 0.6242\n",
            "Epoch 51/100\n",
            "\u001b[1m207/207\u001b[0m \u001b[32m━━━━━━━━━━━━━━━━━━━━\u001b[0m\u001b[37m\u001b[0m \u001b[1m1s\u001b[0m 4ms/step - loss: 1.0471 - mae: 0.6012 - val_loss: 0.9813 - val_mae: 0.5551\n",
            "Epoch 52/100\n",
            "\u001b[1m207/207\u001b[0m \u001b[32m━━━━━━━━━━━━━━━━━━━━\u001b[0m\u001b[37m\u001b[0m \u001b[1m1s\u001b[0m 3ms/step - loss: 1.0327 - mae: 0.5970 - val_loss: 1.0173 - val_mae: 0.6109\n",
            "Epoch 53/100\n",
            "\u001b[1m207/207\u001b[0m \u001b[32m━━━━━━━━━━━━━━━━━━━━\u001b[0m\u001b[37m\u001b[0m \u001b[1m1s\u001b[0m 2ms/step - loss: 1.3107 - mae: 0.7144 - val_loss: 1.0511 - val_mae: 0.6424\n",
            "Epoch 54/100\n",
            "\u001b[1m207/207\u001b[0m \u001b[32m━━━━━━━━━━━━━━━━━━━━\u001b[0m\u001b[37m\u001b[0m \u001b[1m1s\u001b[0m 2ms/step - loss: 1.0162 - mae: 0.5960 - val_loss: 0.9761 - val_mae: 0.5900\n",
            "Epoch 55/100\n",
            "\u001b[1m207/207\u001b[0m \u001b[32m━━━━━━━━━━━━━━━━━━━━\u001b[0m\u001b[37m\u001b[0m \u001b[1m0s\u001b[0m 2ms/step - loss: 1.0137 - mae: 0.5907 - val_loss: 1.1939 - val_mae: 0.6394\n",
            "Epoch 56/100\n",
            "\u001b[1m207/207\u001b[0m \u001b[32m━━━━━━━━━━━━━━━━━━━━\u001b[0m\u001b[37m\u001b[0m \u001b[1m1s\u001b[0m 3ms/step - loss: 1.0960 - mae: 0.6332 - val_loss: 1.1539 - val_mae: 0.7216\n",
            "Epoch 57/100\n",
            "\u001b[1m207/207\u001b[0m \u001b[32m━━━━━━━━━━━━━━━━━━━━\u001b[0m\u001b[37m\u001b[0m \u001b[1m1s\u001b[0m 2ms/step - loss: 1.1096 - mae: 0.6391 - val_loss: 1.1605 - val_mae: 0.6665\n",
            "Epoch 58/100\n",
            "\u001b[1m207/207\u001b[0m \u001b[32m━━━━━━━━━━━━━━━━━━━━\u001b[0m\u001b[37m\u001b[0m \u001b[1m1s\u001b[0m 2ms/step - loss: 1.2737 - mae: 0.7225 - val_loss: 1.8298 - val_mae: 0.8431\n",
            "Epoch 59/100\n",
            "\u001b[1m207/207\u001b[0m \u001b[32m━━━━━━━━━━━━━━━━━━━━\u001b[0m\u001b[37m\u001b[0m \u001b[1m1s\u001b[0m 2ms/step - loss: 1.6204 - mae: 0.8148 - val_loss: 1.1889 - val_mae: 0.7070\n",
            "Epoch 60/100\n",
            "\u001b[1m207/207\u001b[0m \u001b[32m━━━━━━━━━━━━━━━━━━━━\u001b[0m\u001b[37m\u001b[0m \u001b[1m1s\u001b[0m 2ms/step - loss: 1.1298 - mae: 0.6529 - val_loss: 1.3119 - val_mae: 0.8247\n",
            "Epoch 61/100\n",
            "\u001b[1m207/207\u001b[0m \u001b[32m━━━━━━━━━━━━━━━━━━━━\u001b[0m\u001b[37m\u001b[0m \u001b[1m1s\u001b[0m 2ms/step - loss: 1.1077 - mae: 0.6504 - val_loss: 1.0908 - val_mae: 0.5828\n",
            "Epoch 62/100\n",
            "\u001b[1m207/207\u001b[0m \u001b[32m━━━━━━━━━━━━━━━━━━━━\u001b[0m\u001b[37m\u001b[0m \u001b[1m1s\u001b[0m 2ms/step - loss: 1.2570 - mae: 0.7049 - val_loss: 1.0012 - val_mae: 0.6030\n",
            "Epoch 63/100\n",
            "\u001b[1m207/207\u001b[0m \u001b[32m━━━━━━━━━━━━━━━━━━━━\u001b[0m\u001b[37m\u001b[0m \u001b[1m1s\u001b[0m 2ms/step - loss: 0.9938 - mae: 0.5894 - val_loss: 1.0116 - val_mae: 0.5688\n",
            "Epoch 64/100\n",
            "\u001b[1m207/207\u001b[0m \u001b[32m━━━━━━━━━━━━━━━━━━━━\u001b[0m\u001b[37m\u001b[0m \u001b[1m1s\u001b[0m 2ms/step - loss: 1.0831 - mae: 0.6382 - val_loss: 0.9565 - val_mae: 0.5487\n",
            "Epoch 65/100\n",
            "\u001b[1m207/207\u001b[0m \u001b[32m━━━━━━━━━━━━━━━━━━━━\u001b[0m\u001b[37m\u001b[0m \u001b[1m1s\u001b[0m 3ms/step - loss: 1.0178 - mae: 0.6081 - val_loss: 0.9758 - val_mae: 0.5812\n",
            "Epoch 66/100\n",
            "\u001b[1m207/207\u001b[0m \u001b[32m━━━━━━━━━━━━━━━━━━━━\u001b[0m\u001b[37m\u001b[0m \u001b[1m0s\u001b[0m 2ms/step - loss: 0.9850 - mae: 0.5930 - val_loss: 1.0249 - val_mae: 0.6625\n",
            "Epoch 67/100\n",
            "\u001b[1m207/207\u001b[0m \u001b[32m━━━━━━━━━━━━━━━━━━━━\u001b[0m\u001b[37m\u001b[0m \u001b[1m1s\u001b[0m 2ms/step - loss: 1.0495 - mae: 0.6248 - val_loss: 1.1860 - val_mae: 0.7325\n",
            "Epoch 68/100\n",
            "\u001b[1m207/207\u001b[0m \u001b[32m━━━━━━━━━━━━━━━━━━━━\u001b[0m\u001b[37m\u001b[0m \u001b[1m1s\u001b[0m 2ms/step - loss: 0.9736 - mae: 0.5975 - val_loss: 1.1940 - val_mae: 0.7600\n",
            "Epoch 69/100\n",
            "\u001b[1m207/207\u001b[0m \u001b[32m━━━━━━━━━━━━━━━━━━━━\u001b[0m\u001b[37m\u001b[0m \u001b[1m1s\u001b[0m 4ms/step - loss: 0.9716 - mae: 0.5944 - val_loss: 0.9017 - val_mae: 0.5415\n",
            "Epoch 70/100\n",
            "\u001b[1m207/207\u001b[0m \u001b[32m━━━━━━━━━━━━━━━━━━━━\u001b[0m\u001b[37m\u001b[0m \u001b[1m1s\u001b[0m 4ms/step - loss: 1.0209 - mae: 0.6222 - val_loss: 0.9422 - val_mae: 0.5557\n",
            "Epoch 71/100\n",
            "\u001b[1m207/207\u001b[0m \u001b[32m━━━━━━━━━━━━━━━━━━━━\u001b[0m\u001b[37m\u001b[0m \u001b[1m1s\u001b[0m 3ms/step - loss: 0.9409 - mae: 0.5864 - val_loss: 0.9397 - val_mae: 0.5668\n",
            "Epoch 72/100\n",
            "\u001b[1m207/207\u001b[0m \u001b[32m━━━━━━━━━━━━━━━━━━━━\u001b[0m\u001b[37m\u001b[0m \u001b[1m1s\u001b[0m 2ms/step - loss: 0.9866 - mae: 0.6109 - val_loss: 1.0843 - val_mae: 0.7169\n",
            "Epoch 73/100\n",
            "\u001b[1m207/207\u001b[0m \u001b[32m━━━━━━━━━━━━━━━━━━━━\u001b[0m\u001b[37m\u001b[0m \u001b[1m1s\u001b[0m 2ms/step - loss: 0.9240 - mae: 0.5915 - val_loss: 0.8956 - val_mae: 0.5399\n",
            "Epoch 74/100\n",
            "\u001b[1m207/207\u001b[0m \u001b[32m━━━━━━━━━━━━━━━━━━━━\u001b[0m\u001b[37m\u001b[0m \u001b[1m0s\u001b[0m 2ms/step - loss: 1.0184 - mae: 0.6232 - val_loss: 0.8929 - val_mae: 0.5446\n",
            "Epoch 75/100\n",
            "\u001b[1m207/207\u001b[0m \u001b[32m━━━━━━━━━━━━━━━━━━━━\u001b[0m\u001b[37m\u001b[0m \u001b[1m1s\u001b[0m 2ms/step - loss: 0.9008 - mae: 0.5768 - val_loss: 0.8576 - val_mae: 0.5507\n",
            "Epoch 76/100\n",
            "\u001b[1m207/207\u001b[0m \u001b[32m━━━━━━━━━━━━━━━━━━━━\u001b[0m\u001b[37m\u001b[0m \u001b[1m1s\u001b[0m 3ms/step - loss: 0.8508 - mae: 0.5549 - val_loss: 1.7209 - val_mae: 0.9210\n",
            "Epoch 77/100\n",
            "\u001b[1m207/207\u001b[0m \u001b[32m━━━━━━━━━━━━━━━━━━━━\u001b[0m\u001b[37m\u001b[0m \u001b[1m1s\u001b[0m 3ms/step - loss: 1.1498 - mae: 0.7018 - val_loss: 0.9272 - val_mae: 0.5739\n",
            "Epoch 78/100\n",
            "\u001b[1m207/207\u001b[0m \u001b[32m━━━━━━━━━━━━━━━━━━━━\u001b[0m\u001b[37m\u001b[0m \u001b[1m0s\u001b[0m 2ms/step - loss: 0.8924 - mae: 0.5822 - val_loss: 0.8353 - val_mae: 0.5626\n",
            "Epoch 79/100\n",
            "\u001b[1m207/207\u001b[0m \u001b[32m━━━━━━━━━━━━━━━━━━━━\u001b[0m\u001b[37m\u001b[0m \u001b[1m1s\u001b[0m 2ms/step - loss: 0.8626 - mae: 0.5703 - val_loss: 0.9865 - val_mae: 0.6925\n",
            "Epoch 80/100\n",
            "\u001b[1m207/207\u001b[0m \u001b[32m━━━━━━━━━━━━━━━━━━━━\u001b[0m\u001b[37m\u001b[0m \u001b[1m1s\u001b[0m 2ms/step - loss: 0.8858 - mae: 0.5918 - val_loss: 0.9742 - val_mae: 0.5918\n",
            "Epoch 81/100\n",
            "\u001b[1m207/207\u001b[0m \u001b[32m━━━━━━━━━━━━━━━━━━━━\u001b[0m\u001b[37m\u001b[0m \u001b[1m0s\u001b[0m 2ms/step - loss: 0.8788 - mae: 0.5872 - val_loss: 0.8487 - val_mae: 0.6031\n",
            "Epoch 82/100\n",
            "\u001b[1m207/207\u001b[0m \u001b[32m━━━━━━━━━━━━━━━━━━━━\u001b[0m\u001b[37m\u001b[0m \u001b[1m0s\u001b[0m 2ms/step - loss: 0.8322 - mae: 0.5670 - val_loss: 0.7963 - val_mae: 0.5347\n",
            "Epoch 83/100\n",
            "\u001b[1m207/207\u001b[0m \u001b[32m━━━━━━━━━━━━━━━━━━━━\u001b[0m\u001b[37m\u001b[0m \u001b[1m1s\u001b[0m 3ms/step - loss: 0.8028 - mae: 0.5559 - val_loss: 0.8187 - val_mae: 0.5606\n",
            "Epoch 84/100\n",
            "\u001b[1m207/207\u001b[0m \u001b[32m━━━━━━━━━━━━━━━━━━━━\u001b[0m\u001b[37m\u001b[0m \u001b[1m1s\u001b[0m 3ms/step - loss: 0.7833 - mae: 0.5467 - val_loss: 2.1128 - val_mae: 1.2265\n",
            "Epoch 85/100\n",
            "\u001b[1m207/207\u001b[0m \u001b[32m━━━━━━━━━━━━━━━━━━━━\u001b[0m\u001b[37m\u001b[0m \u001b[1m1s\u001b[0m 2ms/step - loss: 0.9918 - mae: 0.6579 - val_loss: 0.8737 - val_mae: 0.6467\n",
            "Epoch 86/100\n",
            "\u001b[1m207/207\u001b[0m \u001b[32m━━━━━━━━━━━━━━━━━━━━\u001b[0m\u001b[37m\u001b[0m \u001b[1m1s\u001b[0m 2ms/step - loss: 0.7995 - mae: 0.5631 - val_loss: 0.8878 - val_mae: 0.6436\n",
            "Epoch 87/100\n",
            "\u001b[1m207/207\u001b[0m \u001b[32m━━━━━━━━━━━━━━━━━━━━\u001b[0m\u001b[37m\u001b[0m \u001b[1m1s\u001b[0m 2ms/step - loss: 0.8482 - mae: 0.5948 - val_loss: 0.8115 - val_mae: 0.5324\n",
            "Epoch 88/100\n",
            "\u001b[1m207/207\u001b[0m \u001b[32m━━━━━━━━━━━━━━━━━━━━\u001b[0m\u001b[37m\u001b[0m \u001b[1m1s\u001b[0m 2ms/step - loss: 0.7594 - mae: 0.5475 - val_loss: 0.7937 - val_mae: 0.6079\n",
            "Epoch 89/100\n",
            "\u001b[1m207/207\u001b[0m \u001b[32m━━━━━━━━━━━━━━━━━━━━\u001b[0m\u001b[37m\u001b[0m \u001b[1m1s\u001b[0m 4ms/step - loss: 0.8135 - mae: 0.5843 - val_loss: 0.7343 - val_mae: 0.5214\n",
            "Epoch 90/100\n",
            "\u001b[1m207/207\u001b[0m \u001b[32m━━━━━━━━━━━━━━━━━━━━\u001b[0m\u001b[37m\u001b[0m \u001b[1m1s\u001b[0m 4ms/step - loss: 0.7776 - mae: 0.5673 - val_loss: 0.7360 - val_mae: 0.5406\n",
            "Epoch 91/100\n",
            "\u001b[1m207/207\u001b[0m \u001b[32m━━━━━━━━━━━━━━━━━━━━\u001b[0m\u001b[37m\u001b[0m \u001b[1m1s\u001b[0m 4ms/step - loss: 0.7444 - mae: 0.5585 - val_loss: 0.7259 - val_mae: 0.5551\n",
            "Epoch 92/100\n",
            "\u001b[1m207/207\u001b[0m \u001b[32m━━━━━━━━━━━━━━━━━━━━\u001b[0m\u001b[37m\u001b[0m \u001b[1m1s\u001b[0m 3ms/step - loss: 0.7227 - mae: 0.5414 - val_loss: 0.8047 - val_mae: 0.6315\n",
            "Epoch 93/100\n",
            "\u001b[1m207/207\u001b[0m \u001b[32m━━━━━━━━━━━━━━━━━━━━\u001b[0m\u001b[37m\u001b[0m \u001b[1m1s\u001b[0m 3ms/step - loss: 0.8314 - mae: 0.6051 - val_loss: 0.6947 - val_mae: 0.5231\n",
            "Epoch 94/100\n",
            "\u001b[1m207/207\u001b[0m \u001b[32m━━━━━━━━━━━━━━━━━━━━\u001b[0m\u001b[37m\u001b[0m \u001b[1m1s\u001b[0m 2ms/step - loss: 0.8110 - mae: 0.5940 - val_loss: 0.7500 - val_mae: 0.5823\n",
            "Epoch 95/100\n",
            "\u001b[1m207/207\u001b[0m \u001b[32m━━━━━━━━━━━━━━━━━━━━\u001b[0m\u001b[37m\u001b[0m \u001b[1m1s\u001b[0m 3ms/step - loss: 0.7362 - mae: 0.5620 - val_loss: 0.7106 - val_mae: 0.5206\n",
            "Epoch 96/100\n",
            "\u001b[1m207/207\u001b[0m \u001b[32m━━━━━━━━━━━━━━━━━━━━\u001b[0m\u001b[37m\u001b[0m \u001b[1m1s\u001b[0m 2ms/step - loss: 0.7401 - mae: 0.5586 - val_loss: 0.7285 - val_mae: 0.5336\n",
            "Epoch 97/100\n",
            "\u001b[1m207/207\u001b[0m \u001b[32m━━━━━━━━━━━━━━━━━━━━\u001b[0m\u001b[37m\u001b[0m \u001b[1m1s\u001b[0m 2ms/step - loss: 0.7045 - mae: 0.5459 - val_loss: 0.6852 - val_mae: 0.5250\n",
            "Epoch 98/100\n",
            "\u001b[1m207/207\u001b[0m \u001b[32m━━━━━━━━━━━━━━━━━━━━\u001b[0m\u001b[37m\u001b[0m \u001b[1m1s\u001b[0m 2ms/step - loss: 0.7198 - mae: 0.5607 - val_loss: 1.8427 - val_mae: 1.1206\n",
            "Epoch 99/100\n",
            "\u001b[1m207/207\u001b[0m \u001b[32m━━━━━━━━━━━━━━━━━━━━\u001b[0m\u001b[37m\u001b[0m \u001b[1m0s\u001b[0m 2ms/step - loss: 0.9895 - mae: 0.6835 - val_loss: 0.8006 - val_mae: 0.6479\n",
            "Epoch 100/100\n",
            "\u001b[1m207/207\u001b[0m \u001b[32m━━━━━━━━━━━━━━━━━━━━\u001b[0m\u001b[37m\u001b[0m \u001b[1m1s\u001b[0m 2ms/step - loss: 0.7190 - mae: 0.5590 - val_loss: 0.6890 - val_mae: 0.5339\n",
            "Pérdida (MSE) en prueba: 0.6807\n",
            "Error absoluto medio (MAE) en prueba: 0.5313\n"
          ]
        },
        {
          "output_type": "display_data",
          "data": {
            "text/plain": [
              "<Figure size 1200x600 with 2 Axes>"
            ],
            "image/png": "[encoded data removed]"
          },
          "metadata": {}
        },
        {
          "output_type": "stream",
          "name": "stdout",
          "text": [
            "\u001b[1m129/129\u001b[0m \u001b[32m━━━━━━━━━━━━━━━━━━━━\u001b[0m\u001b[37m\u001b[0m \u001b[1m0s\u001b[0m 1ms/step\n",
            "Predicción: 0.46, Valor real: 0.48\n",
            "Predicción: 0.46, Valor real: 0.46\n",
            "Predicción: 0.46, Valor real: 5.00\n",
            "Predicción: 0.67, Valor real: 2.19\n",
            "Predicción: 0.46, Valor real: 2.78\n",
            "Predicción: 0.53, Valor real: 1.59\n",
            "Predicción: 0.59, Valor real: 1.98\n",
            "Predicción: 0.45, Valor real: 1.57\n",
            "Predicción: 0.57, Valor real: 3.40\n",
            "Predicción: 0.99, Valor real: 4.47\n"
          ]
        }
      ]
    },
    {
      "cell_type": "markdown",
      "source": [
        "La justificación de la arquitectura de mi modelo es la siguiente:\n",
        "\n",
        "\n",
        "*   Número de capas: 2-3 capas ocultas dan buena capacidad al modelo de aprender patrones sin llegar al sobreajuste\n",
        "*   Funciones de activación: Función ReLU en capas ocultas y función lineal en la salida. La función líneal es adecuada para problemas de regresión, ya que permite al modelo producir cualquier valor numérico\n",
        "*   Función de costo: Error cuadrático medio (MSE) porque penaliza grandes errores más severamente que pequeños errores, lo que es ideal en problemas de regresión.\n",
        "*   Número de épocas: 100 épocas porque permite que el modelo alcance estabilidad sin llegar a un sobreajuste\n",
        "*   Tamaño del batch: 32 porque un batch mas grande hace el entrenamiento lento y menos sensible a variaciones de datos.\n",
        "*   Número de neuronas de la capa de entrada: igual que el número de características de entrada del dataset, así cada neurona de entrada representa una característica del dataset, asegurando que la red reciba toda la información necesaria para aprender.\n",
        "*   Número de neuronas en la capa de salida: 1 neurona pues como quiero predecir un valor numérico, una sola neurona es suficiente para esta tarea.\n"
      ],
      "metadata": {
        "id": "lhx6APNql08a"
      }
    }
  ]
}